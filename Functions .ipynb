{
 "cells": [
  {
   "cell_type": "markdown",
   "id": "ec88a1f5",
   "metadata": {},
   "source": [
    "# Python Functions"
   ]
  },
  {
   "cell_type": "code",
   "execution_count": 3,
   "id": "0c3f9475",
   "metadata": {},
   "outputs": [],
   "source": [
    "def hello():\n",
    "    print(\"Hey!\")"
   ]
  },
  {
   "cell_type": "code",
   "execution_count": 6,
   "id": "2b03215d",
   "metadata": {},
   "outputs": [
    {
     "name": "stdout",
     "output_type": "stream",
     "text": [
      "Hey!\n"
     ]
    }
   ],
   "source": [
    "hello()"
   ]
  },
  {
   "cell_type": "code",
   "execution_count": 7,
   "id": "d8df6702",
   "metadata": {},
   "outputs": [],
   "source": [
    "def hello1():\n",
    "    return \"Hi!!!!\""
   ]
  },
  {
   "cell_type": "code",
   "execution_count": 9,
   "id": "98448a2e",
   "metadata": {},
   "outputs": [
    {
     "data": {
      "text/plain": [
       "'Hi!!!!'"
      ]
     },
     "execution_count": 9,
     "metadata": {},
     "output_type": "execute_result"
    }
   ],
   "source": [
    "hello1()"
   ]
  },
  {
   "cell_type": "code",
   "execution_count": 10,
   "id": "7f0462ba",
   "metadata": {},
   "outputs": [
    {
     "name": "stdout",
     "output_type": "stream",
     "text": [
      "Hey!\n"
     ]
    }
   ],
   "source": [
    "retutn_hello = hello()"
   ]
  },
  {
   "cell_type": "code",
   "execution_count": 13,
   "id": "ab48c8e8",
   "metadata": {},
   "outputs": [],
   "source": [
    "return_hello1 = hello1()"
   ]
  },
  {
   "cell_type": "code",
   "execution_count": 14,
   "id": "ea0478d1",
   "metadata": {},
   "outputs": [
    {
     "data": {
      "text/plain": [
       "'Hi!!!!'"
      ]
     },
     "execution_count": 14,
     "metadata": {},
     "output_type": "execute_result"
    }
   ],
   "source": [
    "return_hello1"
   ]
  },
  {
   "cell_type": "code",
   "execution_count": 15,
   "id": "d7838586",
   "metadata": {},
   "outputs": [],
   "source": [
    "def hello2(name):\n",
    "    return f\"Hi there {name}\""
   ]
  },
  {
   "cell_type": "code",
   "execution_count": 17,
   "id": "03e14dce",
   "metadata": {},
   "outputs": [],
   "source": [
    "returr_hello2 = hello2(\"World!\")"
   ]
  },
  {
   "cell_type": "code",
   "execution_count": 18,
   "id": "a40679ef",
   "metadata": {},
   "outputs": [
    {
     "data": {
      "text/plain": [
       "'Hi there World!'"
      ]
     },
     "execution_count": 18,
     "metadata": {},
     "output_type": "execute_result"
    }
   ],
   "source": [
    "returr_hello2"
   ]
  },
  {
   "cell_type": "code",
   "execution_count": null,
   "id": "a1961d68",
   "metadata": {},
   "outputs": [],
   "source": []
  }
 ],
 "metadata": {
  "kernelspec": {
   "display_name": "Python 3",
   "language": "python",
   "name": "python3"
  },
  "language_info": {
   "codemirror_mode": {
    "name": "ipython",
    "version": 3
   },
   "file_extension": ".py",
   "mimetype": "text/x-python",
   "name": "python",
   "nbconvert_exporter": "python",
   "pygments_lexer": "ipython3",
   "version": "3.8.8"
  }
 },
 "nbformat": 4,
 "nbformat_minor": 5
}
